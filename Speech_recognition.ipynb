{
 "cells": [
  {
   "cell_type": "code",
   "execution_count": null,
   "metadata": {},
   "outputs": [
    {
     "name": "stdout",
     "output_type": "stream",
     "text": [
      "[search edureka:search youtube]\n",
      "speak now:\n",
      "search your query\n"
     ]
    }
   ],
   "source": [
    "import speech_recognition as sr\n",
    "import webbrowser as wb\n",
    "\n",
    "r1=sr.Recognizer()\n",
    "r2=sr.Recognizer()\n",
    "r3=sr.Recognizer()\n",
    "\n",
    "\n",
    "with sr.Microphone() as source:\n",
    "    print('[search edureka:search youtube]')\n",
    "    print('speak now:')\n",
    "    audio=r3.listen(source)\n",
    "if 'google' in r2.recognize_google(audio):\n",
    "    r2=sr.Recognizer()\n",
    "    url='https://www.google.com/'\n",
    "    with sr.Microphone()as source:\n",
    "        print('search your query')\n",
    "        audio=r2.listen(source)\n",
    "        \n",
    "        try:\n",
    "            get=r2.recognize_google(audio)\n",
    "            print(get)\n",
    "            wb.get().open_new(url+get)\n",
    "        except sr.UnknownValueError:\n",
    "            print('error')\n",
    "        except sr.RequestError as e:\n",
    "            print('failed'.format(e))\n",
    "            \n",
    "if 'video' in r1.recognize_google(audio):\n",
    "    r1=sr.Recognizer()\n",
    "    url='https://www.youtube.com/'\n",
    "    with sr.Microphone()as source:\n",
    "        print('search your query')\n",
    "        audio=r1.listen(source)\n",
    "        \n",
    "        try:\n",
    "            get=r1.recognize_google(audio)\n",
    "            print(get)\n",
    "            wb.get().open_new(url+get)\n",
    "        except sr.UnknownValueError:\n",
    "            print('error')\n",
    "        except sr.RequestError as e:\n",
    "            print('failed'.format(e))            \n",
    "            \n",
    "    "
   ]
  },
  {
   "cell_type": "code",
   "execution_count": null,
   "metadata": {},
   "outputs": [],
   "source": []
  },
  {
   "cell_type": "code",
   "execution_count": null,
   "metadata": {},
   "outputs": [],
   "source": []
  }
 ],
 "metadata": {
  "kernelspec": {
   "display_name": "Python 3",
   "language": "python",
   "name": "python3"
  },
  "language_info": {
   "codemirror_mode": {
    "name": "ipython",
    "version": 3
   },
   "file_extension": ".py",
   "mimetype": "text/x-python",
   "name": "python",
   "nbconvert_exporter": "python",
   "pygments_lexer": "ipython3",
   "version": "3.7.6"
  }
 },
 "nbformat": 4,
 "nbformat_minor": 2
}
